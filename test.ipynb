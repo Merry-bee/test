{
 "cells": [
  {
   "cell_type": "code",
   "execution_count": 28,
   "metadata": {},
   "outputs": [
    {
     "data": {
      "text/plain": [
       "[':',\n",
       " '1.  These politically skilled salespeople have the capacity to effectively bridge existing structural holes through interpersonal influence to translate opportunity into effectiveness through opportunity capitalization (eg McAllister et al 2015).',\n",
       " '2.  Structural holes separate individuals and groups from one another in an organizational network (Burt 2000).',\n",
       " '3.  Furthermore, because politically skilled salespeople are socially astute and recognize opportunity, they also recognize structural holes in the informal network of an organization (Burt 2001).',\n",
       " '4.  Salespeople high in political skill are good at relationship development, not only in terms of forming relationships between themselves and others, but also in terms of developing, fostering, and brokering relationships among disconnected others (eg Ferris et al 2012).',\n",
       " '']"
      ]
     },
     "execution_count": 28,
     "metadata": {},
     "output_type": "execute_result"
    }
   ],
   "source": [
    "import json\n",
    "with open('train_small.json','r') as fi:\n",
    "    dct = json.load(fi)\n",
    "len(dct)    # 6300\n",
    "dct[0]['question'].split('[Theories]')[1].split('\\n\\n')"
   ]
  },
  {
   "cell_type": "code",
   "execution_count": 31,
   "metadata": {},
   "outputs": [
    {
     "name": "stdout",
     "output_type": "stream",
     "text": [
      "Counter({0: 5378, 1: 672, 2: 161, 3: 46, 4: 24, 5: 8, 6: 5, 8: 2, 9: 2, 7: 1, 10: 1})\n"
     ]
    }
   ],
   "source": [
    "from collections import Counter\n",
    "len_t = []\n",
    "for i in range(len(dct)):\n",
    "    theories = dct[i]['question'].split('[Theories]')[1].split('\\n\\n')[1:-1]\n",
    "    theories = [t for t in theories if 'theory' in t or 'Theory' in t]\n",
    "    len_t.append(len(theories))\n",
    "print(Counter(len_t))"
   ]
  },
  {
   "cell_type": "code",
   "execution_count": 27,
   "metadata": {},
   "outputs": [
    {
     "data": {
      "text/plain": [
       "52592"
      ]
     },
     "execution_count": 27,
     "metadata": {},
     "output_type": "execute_result"
    }
   ],
   "source": [
    "total = 0\n",
    "for i in range(len(dct)):\n",
    "    total+=len(dct[i]['question'].split('[Theories]')[1].split('\\n\\n'))-2\n",
    "total"
   ]
  },
  {
   "cell_type": "code",
   "execution_count": 24,
   "metadata": {},
   "outputs": [],
   "source": []
  },
  {
   "cell_type": "code",
   "execution_count": null,
   "metadata": {},
   "outputs": [],
   "source": []
  }
 ],
 "metadata": {
  "kernelspec": {
   "display_name": "python3.6",
   "language": "python",
   "name": "python3"
  },
  "language_info": {
   "codemirror_mode": {
    "name": "ipython",
    "version": 3
   },
   "file_extension": ".py",
   "mimetype": "text/x-python",
   "name": "python",
   "nbconvert_exporter": "python",
   "pygments_lexer": "ipython3",
   "version": "3.6.2"
  },
  "orig_nbformat": 4
 },
 "nbformat": 4,
 "nbformat_minor": 2
}
